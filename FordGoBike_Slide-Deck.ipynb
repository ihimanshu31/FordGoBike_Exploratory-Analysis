{
 "cells": [
  {
   "cell_type": "markdown",
   "metadata": {
    "slideshow": {
     "slide_type": "slide"
    }
   },
   "source": [
    "## Communicate Data Findings\n",
    "\n",
    "This project is divided into two major parts.\n",
    "\n",
    "- In the first part, you will conduct an **exploratory data analysis** on a dataset of your choosing. \n",
    "- In the second part, you will take your main findings from your exploration and convey them to others through an **explanatory analysis**.\n",
    "\n",
    "\n",
    "I will perform an exploratory analysis on data provided by **Ford GoBike**,\n",
    "a bike-share system provider.\n",
    "\n",
    "     Dataset :https://www.fordgobike.com/system-data\n",
    "              https://s3.amazonaws.com/baywheels-data/index.html \n",
    "              i.e.  201904-fordgobike-tripdata.csv.zip\n",
    "     Dataset Contain: 239111 Rows & 14 Columns \n",
    "                i.e     duration_sec               \n",
    "                        start_time                \n",
    "                        end_time                   \n",
    "                        start_station_id           \n",
    "                        start_station_name         \n",
    "                        start_station_latitude     \n",
    "                        start_station_longitude    \n",
    "                        end_station_id             \n",
    "                        end_station_name           \n",
    "                        end_station_latitude       \n",
    "                        end_station_longitude      \n",
    "                        bike_id                    \n",
    "                        user_type                 \n",
    "                        bike_share_for_all_trip"
   ]
  },
  {
   "cell_type": "markdown",
   "metadata": {
    "slideshow": {
     "slide_type": "slide"
    }
   },
   "source": [
    "## Explanatory Analysis"
   ]
  },
  {
   "cell_type": "code",
   "execution_count": 12,
   "metadata": {
    "slideshow": {
     "slide_type": "skip"
    }
   },
   "outputs": [],
   "source": [
    "#import important packagesabs\n",
    "import pandas as pd\n",
    "import numpy as np\n",
    "import matplotlib.pyplot as plt\n",
    "%matplotlib inline\n",
    "\n",
    "import seaborn as sns\n",
    "\n",
    "import warnings\n",
    "warnings.filterwarnings('ignore')\n",
    "\n",
    "from IPython.display import Image\n",
    "\n",
    "base_color= sns.color_palette()[0]"
   ]
  },
  {
   "cell_type": "code",
   "execution_count": 2,
   "metadata": {
    "slideshow": {
     "slide_type": "skip"
    }
   },
   "outputs": [],
   "source": [
    "#import 201904-fordgobike-tripdataset\n",
    "\n",
    "ford_df= pd.read_csv('201904-fordgobike-tripdata.csv')\n"
   ]
  },
  {
   "cell_type": "code",
   "execution_count": 3,
   "metadata": {
    "slideshow": {
     "slide_type": "skip"
    }
   },
   "outputs": [
    {
     "name": "stdout",
     "output_type": "stream",
     "text": [
      "<class 'pandas.core.frame.DataFrame'>\n",
      "RangeIndex: 239111 entries, 0 to 239110\n",
      "Data columns (total 14 columns):\n",
      "duration_sec               239111 non-null int64\n",
      "start_time                 239111 non-null object\n",
      "end_time                   239111 non-null object\n",
      "start_station_id           239047 non-null float64\n",
      "start_station_name         239047 non-null object\n",
      "start_station_latitude     239111 non-null float64\n",
      "start_station_longitude    239111 non-null float64\n",
      "end_station_id             239047 non-null float64\n",
      "end_station_name           239047 non-null object\n",
      "end_station_latitude       239111 non-null float64\n",
      "end_station_longitude      239111 non-null float64\n",
      "bike_id                    239111 non-null int64\n",
      "user_type                  239111 non-null object\n",
      "bike_share_for_all_trip    239111 non-null object\n",
      "dtypes: float64(6), int64(2), object(6)\n",
      "memory usage: 25.5+ MB\n"
     ]
    },
    {
     "data": {
      "text/plain": [
       "(239111, 14)"
      ]
     },
     "execution_count": 3,
     "metadata": {},
     "output_type": "execute_result"
    }
   ],
   "source": [
    "ford_df.info()\n",
    "ford_df.shape"
   ]
  },
  {
   "cell_type": "code",
   "execution_count": 30,
   "metadata": {
    "slideshow": {
     "slide_type": "skip"
    }
   },
   "outputs": [
    {
     "data": {
      "text/html": [
       "<div>\n",
       "<style scoped>\n",
       "    .dataframe tbody tr th:only-of-type {\n",
       "        vertical-align: middle;\n",
       "    }\n",
       "\n",
       "    .dataframe tbody tr th {\n",
       "        vertical-align: top;\n",
       "    }\n",
       "\n",
       "    .dataframe thead th {\n",
       "        text-align: right;\n",
       "    }\n",
       "</style>\n",
       "<table border=\"1\" class=\"dataframe\">\n",
       "  <thead>\n",
       "    <tr style=\"text-align: right;\">\n",
       "      <th></th>\n",
       "      <th>duration_sec</th>\n",
       "      <th>start_station_latitude</th>\n",
       "      <th>start_station_longitude</th>\n",
       "      <th>end_station_latitude</th>\n",
       "      <th>end_station_longitude</th>\n",
       "      <th>start_time_hour</th>\n",
       "      <th>duration_min</th>\n",
       "    </tr>\n",
       "  </thead>\n",
       "  <tbody>\n",
       "    <tr>\n",
       "      <th>count</th>\n",
       "      <td>239111.000000</td>\n",
       "      <td>239111.000000</td>\n",
       "      <td>239111.000000</td>\n",
       "      <td>239111.000000</td>\n",
       "      <td>239111.000000</td>\n",
       "      <td>239111.000000</td>\n",
       "      <td>239111.000000</td>\n",
       "    </tr>\n",
       "    <tr>\n",
       "      <th>mean</th>\n",
       "      <td>802.671199</td>\n",
       "      <td>37.769536</td>\n",
       "      <td>-122.352503</td>\n",
       "      <td>37.766996</td>\n",
       "      <td>-122.343420</td>\n",
       "      <td>13.661697</td>\n",
       "      <td>13.377853</td>\n",
       "    </tr>\n",
       "    <tr>\n",
       "      <th>std</th>\n",
       "      <td>1990.006091</td>\n",
       "      <td>0.127698</td>\n",
       "      <td>0.277088</td>\n",
       "      <td>0.343083</td>\n",
       "      <td>1.068144</td>\n",
       "      <td>4.767708</td>\n",
       "      <td>33.166768</td>\n",
       "    </tr>\n",
       "    <tr>\n",
       "      <th>min</th>\n",
       "      <td>61.000000</td>\n",
       "      <td>0.000000</td>\n",
       "      <td>-122.453704</td>\n",
       "      <td>0.000000</td>\n",
       "      <td>-122.453704</td>\n",
       "      <td>0.000000</td>\n",
       "      <td>1.016667</td>\n",
       "    </tr>\n",
       "    <tr>\n",
       "      <th>25%</th>\n",
       "      <td>349.000000</td>\n",
       "      <td>37.770083</td>\n",
       "      <td>-122.413004</td>\n",
       "      <td>37.770407</td>\n",
       "      <td>-122.411738</td>\n",
       "      <td>9.000000</td>\n",
       "      <td>5.816667</td>\n",
       "    </tr>\n",
       "    <tr>\n",
       "      <th>50%</th>\n",
       "      <td>558.000000</td>\n",
       "      <td>37.780760</td>\n",
       "      <td>-122.398285</td>\n",
       "      <td>37.780955</td>\n",
       "      <td>-122.397437</td>\n",
       "      <td>14.000000</td>\n",
       "      <td>9.300000</td>\n",
       "    </tr>\n",
       "    <tr>\n",
       "      <th>75%</th>\n",
       "      <td>876.000000</td>\n",
       "      <td>37.797280</td>\n",
       "      <td>-122.291209</td>\n",
       "      <td>37.797320</td>\n",
       "      <td>-122.291376</td>\n",
       "      <td>17.000000</td>\n",
       "      <td>14.600000</td>\n",
       "    </tr>\n",
       "    <tr>\n",
       "      <th>max</th>\n",
       "      <td>86114.000000</td>\n",
       "      <td>37.880222</td>\n",
       "      <td>0.000000</td>\n",
       "      <td>37.880222</td>\n",
       "      <td>0.000000</td>\n",
       "      <td>23.000000</td>\n",
       "      <td>1435.233333</td>\n",
       "    </tr>\n",
       "  </tbody>\n",
       "</table>\n",
       "</div>"
      ],
      "text/plain": [
       "        duration_sec  start_station_latitude  start_station_longitude  \\\n",
       "count  239111.000000           239111.000000            239111.000000   \n",
       "mean      802.671199               37.769536              -122.352503   \n",
       "std      1990.006091                0.127698                 0.277088   \n",
       "min        61.000000                0.000000              -122.453704   \n",
       "25%       349.000000               37.770083              -122.413004   \n",
       "50%       558.000000               37.780760              -122.398285   \n",
       "75%       876.000000               37.797280              -122.291209   \n",
       "max     86114.000000               37.880222                 0.000000   \n",
       "\n",
       "       end_station_latitude  end_station_longitude  start_time_hour  \\\n",
       "count         239111.000000          239111.000000    239111.000000   \n",
       "mean              37.766996            -122.343420        13.661697   \n",
       "std                0.343083               1.068144         4.767708   \n",
       "min                0.000000            -122.453704         0.000000   \n",
       "25%               37.770407            -122.411738         9.000000   \n",
       "50%               37.780955            -122.397437        14.000000   \n",
       "75%               37.797320            -122.291376        17.000000   \n",
       "max               37.880222               0.000000        23.000000   \n",
       "\n",
       "        duration_min  \n",
       "count  239111.000000  \n",
       "mean       13.377853  \n",
       "std        33.166768  \n",
       "min         1.016667  \n",
       "25%         5.816667  \n",
       "50%         9.300000  \n",
       "75%        14.600000  \n",
       "max      1435.233333  "
      ]
     },
     "execution_count": 30,
     "metadata": {},
     "output_type": "execute_result"
    }
   ],
   "source": [
    "#summary \n",
    "ford_df.describe()"
   ]
  },
  {
   "cell_type": "code",
   "execution_count": 28,
   "metadata": {
    "slideshow": {
     "slide_type": "skip"
    }
   },
   "outputs": [],
   "source": [
    "# convert dates to timestamps\n",
    "ford_df.start_time = pd.to_datetime(ford_df['start_time'])\n",
    "ford_df.end_time = pd.to_datetime(ford_df['end_time'])"
   ]
  },
  {
   "cell_type": "code",
   "execution_count": 6,
   "metadata": {
    "slideshow": {
     "slide_type": "skip"
    }
   },
   "outputs": [],
   "source": [
    "#change start_station_id, end_station_id, bike_id to string\n",
    "ford_df.bike_id = (ford_df['bike_id']).astype(str)\n",
    "ford_df.start_station_id = (ford_df['start_station_id']).astype(str)\n",
    "ford_df.end_station_id = (ford_df['end_station_id']).astype(str)"
   ]
  },
  {
   "cell_type": "code",
   "execution_count": 7,
   "metadata": {
    "slideshow": {
     "slide_type": "skip"
    }
   },
   "outputs": [],
   "source": [
    "ford_df.user_type= (ford_df['user_type']) .astype('category')"
   ]
  },
  {
   "cell_type": "code",
   "execution_count": 8,
   "metadata": {
    "slideshow": {
     "slide_type": "skip"
    }
   },
   "outputs": [],
   "source": [
    "#extract weekday name from start_time\n",
    "ford_df['start_time_day']=ford_df['start_time'].dt.strftime('%a')"
   ]
  },
  {
   "cell_type": "code",
   "execution_count": 9,
   "metadata": {
    "slideshow": {
     "slide_type": "skip"
    }
   },
   "outputs": [],
   "source": [
    "#extract weekday name from start_time\n",
    "ford_df['start_time_hour']=ford_df['start_time'].dt.hour"
   ]
  },
  {
   "cell_type": "code",
   "execution_count": 10,
   "metadata": {
    "slideshow": {
     "slide_type": "skip"
    }
   },
   "outputs": [],
   "source": [
    "ford_df['duration_min']=ford_df['duration_sec']/60"
   ]
  },
  {
   "cell_type": "markdown",
   "metadata": {
    "slideshow": {
     "slide_type": "slide"
    }
   },
   "source": [
    "### Bikes rides on weekdays\n",
    "This visualization shows teh bike rides on weekdays by user( customer or subscriber)"
   ]
  },
  {
   "cell_type": "code",
   "execution_count": 26,
   "metadata": {
    "slideshow": {
     "slide_type": "subslide"
    }
   },
   "outputs": [
    {
     "data": {
      "text/plain": [
       "Text(19.00517361111111, 0.5, 'No. of Bike Trips')"
      ]
     },
     "execution_count": 26,
     "metadata": {},
     "output_type": "execute_result"
    },
    {
     "data": {
      "image/png": "[encoded data removed]",
      "text/plain": [
       "<Figure size 449.125x360 with 1 Axes>"
      ]
     },
     "metadata": {
      "needs_background": "light"
     },
     "output_type": "display_data"
    }
   ],
   "source": [
    "\n",
    "weekday=['Mon',\"Tue\",\"Wed\",\"Thu\",\"Fri\",\"Sat\",\"Sun\"]\n",
    "sns.catplot(data=ford_df, x='start_time_day', kind='count', hue='user_type', order=weekday)\n",
    "plt.title(\"Bikes rides on weekdays\")\n",
    "\n",
    "plt.xlabel(\"Weekdays\")\n",
    "plt.ylabel(\"No. of Bike Trips\")"
   ]
  },
  {
   "cell_type": "markdown",
   "metadata": {
    "slideshow": {
     "slide_type": "slide"
    }
   },
   "source": [
    "### weekly usage Trends by user type\n",
    "This visualization shows the bike rides on every hours by customer and subscriber"
   ]
  },
  {
   "cell_type": "code",
   "execution_count": 14,
   "metadata": {
    "slideshow": {
     "slide_type": "subslide"
    }
   },
   "outputs": [
    {
     "data": {
      "text/plain": [
       "<seaborn.axisgrid.FacetGrid at 0x1a3aede4cc0>"
      ]
     },
     "execution_count": 14,
     "metadata": {},
     "output_type": "execute_result"
    },
    {
     "data": {
      "image/png": "[encoded data removed]",
      "text/plain": [
       "<Figure size 720x360 with 2 Axes>"
      ]
     },
     "metadata": {
      "needs_background": "light"
     },
     "output_type": "display_data"
    }
   ],
   "source": [
    "\n",
    "a=sns.catplot(data=ford_df, x='start_time_hour', col='user_type', kind='count', sharey= False,color=base_color)\n",
    "a.fig.suptitle('Hourly usage Trends by User Type' )\n",
    "\n",
    "a.set_axis_labels('Hours',\"No. of bike trips\")"
   ]
  },
  {
   "cell_type": "markdown",
   "metadata": {
    "slideshow": {
     "slide_type": "slide"
    }
   },
   "source": [
    " ### Bike Rides % by user type\n",
    " \n",
    " This visualization ( Pie chart) shows the Percentage of Customer is 15% and Subscriber is 85%**"
   ]
  },
  {
   "cell_type": "code",
   "execution_count": 31,
   "metadata": {
    "slideshow": {
     "slide_type": "subslide"
    }
   },
   "outputs": [
    {
     "data": {
      "image/png": "[encoded data removed]",
      "text/plain": [
       "<Figure size 432x288 with 1 Axes>"
      ]
     },
     "metadata": {},
     "output_type": "display_data"
    }
   ],
   "source": [
    "\n",
    "customer = ford_df.query('user_type == \"Customer\"')['bike_id'].count()\n",
    "subscriber = ford_df.query('user_type == \"Subscriber\"')['bike_id'].count()\n",
    "\n",
    "customerP= (customer/ford_df['bike_id'].count())*100\n",
    "subscriberP= (subscriber/ford_df['bike_id'].count())*100\n",
    "\n",
    "customer, subscriber,customerP,subscriberP\n",
    "\n",
    "# Data to plot\n",
    "labels = ['Customer', 'Subscriber']\n",
    "sizes = [customerP,subscriberP]\n",
    "colors = [ 'coral', 'lightskyblue']\n",
    "explode = ( 0.2, 0)  # explode 1st slice\n",
    "\n",
    "# Plot\n",
    "plt.pie(sizes, explode=explode, labels=labels, colors=colors,autopct='%1.1f%%', shadow=True, startangle=140)\n",
    "\n",
    "plt.axis('equal')\n",
    "plt.show()"
   ]
  },
  {
   "cell_type": "markdown",
   "metadata": {
    "slideshow": {
     "slide_type": "slide"
    }
   },
   "source": [
    "\n",
    "### Showing usage during the weekday for customers and subscribers\n",
    "The plot perfectly summarizes the diffrent trends for customers and subscribers\n",
    "\n",
    "    -Customers use the bike sharing system more often on weekends( Saturdayt and Sunday)\n",
    "    -Subscribers use the bike sharing system mainly on weekdays (Monday to Friday)"
   ]
  },
  {
   "cell_type": "code",
   "execution_count": 21,
   "metadata": {
    "scrolled": true,
    "slideshow": {
     "slide_type": "subslide"
    }
   },
   "outputs": [
    {
     "data": {
      "text/plain": [
       "Text(0.5, 1.0, 'subscriber')"
      ]
     },
     "execution_count": 21,
     "metadata": {},
     "output_type": "execute_result"
    },
    {
     "data": {
      "image/png": "[encoded data removed]",
      "text/plain": [
       "<Figure size 720x504 with 4 Axes>"
      ]
     },
     "metadata": {
      "needs_background": "light"
     },
     "output_type": "display_data"
    }
   ],
   "source": [
    "\n",
    "# source: https://seaborn.pydata.org/generated/seaborn.heatmap.html\n",
    "plt.figure(figsize=(10,7))\n",
    "plt.suptitle('Showing usage during the weekday for customers and subscribers', fontsize=14)\n",
    "\n",
    "# Setting the weekday order\n",
    "ford_df['start_time_day'] = pd.Categorical(ford_df['start_time_day'], \n",
    "                                                categories=['Mon','Tue','Wed','Thu','Fri','Sat', 'Sun'])\n",
    "\n",
    "\n",
    "# heatmap for customers\n",
    "plt.subplot(1, 2, 1)\n",
    "customer_df = ford_df.query('user_type == \"Customer\"').groupby([\"start_time_hour\", \"start_time_day\"])[\"bike_id\"].size().reset_index()\n",
    "customer_df = customer_df.pivot(\"start_time_hour\", \"start_time_day\", \"bike_id\")\n",
    "sns.heatmap(customer_df, cmap=\"YlGnBu\")\n",
    "plt.title(\"Customer\")\n",
    "\n",
    "# heatmap for subscribers\n",
    "plt.subplot(1, 2, 2)\n",
    "subscriber_df = ford_df.query('user_type == \"Subscriber\"').groupby([\"start_time_hour\", \"start_time_day\"])[\"bike_id\"].size().reset_index()\n",
    "subscriber_df = subscriber_df.pivot(\"start_time_hour\", \"start_time_day\", \"bike_id\")\n",
    "sns.heatmap(subscriber_df, cmap=\"YlGnBu\")\n",
    "plt.title(\"subscriber\")\n"
   ]
  },
  {
   "cell_type": "code",
   "execution_count": null,
   "metadata": {},
   "outputs": [],
   "source": [
    "!jupyter nbconvert FordGoBike_Slide-Deck.ipynb --to slides --post serve --template output_toggle"
   ]
  }
 ],
 "metadata": {
  "celltoolbar": "Slideshow",
  "kernelspec": {
   "display_name": "Python 3",
   "language": "python",
   "name": "python3"
  },
  "language_info": {
   "codemirror_mode": {
    "name": "ipython",
    "version": 3
   },
   "file_extension": ".py",
   "mimetype": "text/x-python",
   "name": "python",
   "nbconvert_exporter": "python",
   "pygments_lexer": "ipython3",
   "version": "3.7.3"
  }
 },
 "nbformat": 4,
 "nbformat_minor": 2
}
